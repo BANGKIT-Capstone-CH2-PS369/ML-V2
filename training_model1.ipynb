{
  "cells": [
    {
      "cell_type": "markdown",
      "metadata": {
        "id": "BeB10ZMav-SW"
      },
      "source": [
        "#Load Dataset"
      ]
    },
    {
      "cell_type": "code",
      "execution_count": 21,
      "metadata": {
        "colab": {
          "base_uri": "https://localhost:8080/"
        },
        "id": "CkSZ9-gPukrQ",
        "outputId": "e7b4c613-a732-4982-fa96-809678b82dff"
      },
      "outputs": [
        {
          "output_type": "stream",
          "name": "stdout",
          "text": [
            "Drive already mounted at /content/drive; to attempt to forcibly remount, call drive.mount(\"/content/drive\", force_remount=True).\n"
          ]
        }
      ],
      "source": [
        "from google.colab import drive\n",
        "drive.mount('/content/drive')"
      ]
    },
    {
      "cell_type": "markdown",
      "metadata": {
        "id": "5vUbBvinu8zW"
      },
      "source": [
        "#Import library"
      ]
    },
    {
      "cell_type": "code",
      "execution_count": 22,
      "metadata": {
        "id": "4JsejDm3uxTS"
      },
      "outputs": [],
      "source": [
        "import os\n",
        "import numpy as np\n",
        "import tensorflow as tf\n",
        "import matplotlib.pyplot as plt\n",
        "from tensorflow.keras.preprocessing.image import ImageDataGenerator\n",
        "\n"
      ]
    },
    {
      "cell_type": "markdown",
      "metadata": {
        "id": "3hjVOjEZDWHm"
      },
      "source": [
        "#Load Directories"
      ]
    },
    {
      "cell_type": "code",
      "execution_count": 23,
      "metadata": {
        "id": "OtrCB-QwDZ-9"
      },
      "outputs": [],
      "source": [
        "dataset_dir = f'/content/drive/MyDrive/Food dataset'\n",
        "train_dir = os.path.join(dataset_dir, \"train\")\n",
        "validation_dir = os.path.join(dataset_dir, \"validation\")\n",
        "test_dir = os.path.join(dataset_dir, \"test\")"
      ]
    },
    {
      "cell_type": "markdown",
      "source": [
        "#List Image Class"
      ],
      "metadata": {
        "id": "FA4I6scs1FPu"
      }
    },
    {
      "cell_type": "code",
      "execution_count": 24,
      "metadata": {
        "colab": {
          "base_uri": "https://localhost:8080/"
        },
        "id": "gmaWq9AODbi9",
        "outputId": "de9e8281-a444-4044-c265-4820d82a36cd"
      },
      "outputs": [
        {
          "output_type": "stream",
          "name": "stdout",
          "text": [
            "tomat: \n",
            " \t92 train images,10 validation images, and 10 test images,total 112 images\n",
            "\n",
            "wortel: \n",
            " \t82 train images,9 validation images, and 10 test images,total 101 images\n",
            "\n",
            "ubi: \n",
            " \t69 train images,10 validation images, and 10 test images,total 89 images\n",
            "\n",
            "sayap ayam: \n",
            " \t50 train images,10 validation images, and 10 test images,total 70 images\n",
            "\n",
            "pokcoy: \n",
            " \t50 train images,10 validation images, and 10 test images,total 70 images\n",
            "\n",
            "salmon: \n",
            " \t50 train images,10 validation images, and 10 test images,total 70 images\n",
            "\n",
            "telur: \n",
            " \t60 train images,10 validation images, and 10 test images,total 80 images\n",
            "\n",
            "tempe: \n",
            " \t50 train images,10 validation images, and 10 test images,total 70 images\n",
            "\n",
            "selada: \n",
            " \t97 train images,9 validation images, and 10 test images,total 116 images\n",
            "\n",
            "tauge: \n",
            " \t50 train images,10 validation images, and 10 test images,total 70 images\n",
            "\n",
            "terong: \n",
            " \t84 train images,10 validation images, and 10 test images,total 104 images\n",
            "\n",
            "tahu: \n",
            " \t50 train images,10 validation images, and 10 test images,total 70 images\n",
            "\n",
            "semangka: \n",
            " \t84 train images,10 validation images, and 10 test images,total 104 images\n",
            "\n",
            "mangga: \n",
            " \t86 train images,10 validation images, and 10 test images,total 106 images\n",
            "\n",
            "paha ayam: \n",
            " \t70 train images,10 validation images, and 10 test images,total 90 images\n",
            "\n",
            "lobak: \n",
            " \t81 train images,9 validation images, and 10 test images,total 100 images\n",
            "\n",
            "mentimun: \n",
            " \t94 train images,10 validation images, and 10 test images,total 114 images\n",
            "\n",
            "nanas: \n",
            " \t99 train images,10 validation images, and 10 test images,total 119 images\n",
            "\n",
            "lemon: \n",
            " \t82 train images,10 validation images, and 10 test images,total 102 images\n",
            "\n",
            "labu siam: \n",
            " \t50 train images,10 validation images, and 10 test images,total 70 images\n",
            "\n",
            "pisang: \n",
            " \t75 train images,9 validation images, and 9 test images,total 93 images\n",
            "\n",
            "paprika: \n",
            " \t90 train images,9 validation images, and 10 test images,total 109 images\n",
            "\n",
            "kedelai: \n",
            " \t97 train images,10 validation images, and 10 test images,total 117 images\n",
            "\n",
            "jagung: \n",
            " \t87 train images,10 validation images, and 10 test images,total 107 images\n",
            "\n",
            "kacang polong: \n",
            " \t100 train images,10 validation images, and 10 test images,total 120 images\n",
            "\n",
            "labu: \n",
            " \t50 train images,10 validation images, and 10 test images,total 70 images\n",
            "\n",
            "kiwi: \n",
            " \t88 train images,10 validation images, and 10 test images,total 108 images\n",
            "\n",
            "kentang: \n",
            " \t77 train images,10 validation images, and 10 test images,total 97 images\n",
            "\n",
            "jahe: \n",
            " \t68 train images,10 validation images, and 10 test images,total 88 images\n",
            "\n",
            "kembang kol: \n",
            " \t79 train images,10 validation images, and 10 test images,total 99 images\n",
            "\n",
            "jeruk: \n",
            " \t69 train images,9 validation images, and 10 test images,total 88 images\n",
            "\n",
            "kol: \n",
            " \t92 train images,10 validation images, and 10 test images,total 112 images\n",
            "\n",
            "bayam: \n",
            " \t97 train images,10 validation images, and 10 test images,total 117 images\n",
            "\n",
            "brokoli: \n",
            " \t50 train images,10 validation images, and 10 test images,total 70 images\n",
            "\n",
            "ceker ayam: \n",
            " \t50 train images,10 validation images, and 10 test images,total 70 images\n",
            "\n",
            "bawang putih: \n",
            " \t92 train images,10 validation images, and 10 test images,total 112 images\n",
            "\n",
            "cabai: \n",
            " \t87 train images,9 validation images, and 10 test images,total 106 images\n",
            "\n",
            "bawang: \n",
            " \t94 train images,10 validation images, and 10 test images,total 114 images\n",
            "\n",
            "daun bawang: \n",
            " \t50 train images,10 validation images, and 10 test images,total 70 images\n",
            "\n",
            "delima: \n",
            " \t79 train images,10 validation images, and 10 test images,total 99 images\n",
            "\n",
            "dada ayam: \n",
            " \t50 train images,10 validation images, and 10 test images,total 70 images\n",
            "\n",
            "anggur: \n",
            " \t100 train images,9 validation images, and 10 test images,total 119 images\n",
            "\n",
            "apel: \n",
            " \t68 train images,10 validation images, and 10 test images,total 88 images\n",
            "\n",
            "Sapi: \n",
            " \t45 train images,10 validation images, and 10 test images,total 65 images\n",
            "\n",
            "lengkuas: \n",
            " \t50 train images,10 validation images, and 10 test images,total 70 images\n",
            "\n",
            "sawi putih: \n",
            " \t36 train images,15 validation images, and 10 test images,total 61 images\n",
            "\n"
          ]
        }
      ],
      "source": [
        "def daftar_gambar():\n",
        "  classes_dirs = os.listdir(train_dir)\n",
        "  for label in classes_dirs:\n",
        "    train_classes = os.listdir(os.path.join(train_dir, label))\n",
        "    validation_classes = os.listdir(os.path.join(validation_dir, label))\n",
        "    test_classes = os.listdir(os.path.join(test_dir, label))\n",
        "    print(f\"{label}: \\n \\t{len(train_classes)} train images,{len(validation_classes)} validation images, and {len(test_classes)} test images,total {len(train_classes) + len(validation_classes) + len(test_classes)} images\")\n",
        "    print()\n",
        "daftar_gambar()"
      ]
    },
    {
      "cell_type": "markdown",
      "metadata": {
        "id": "i2w52yYrvTu9"
      },
      "source": [
        "#Data Preprocessing"
      ]
    },
    {
      "cell_type": "markdown",
      "metadata": {
        "id": "vU3NlcKCwlIZ"
      },
      "source": [
        "##Training Image preprocessing"
      ]
    },
    {
      "cell_type": "code",
      "execution_count": 25,
      "metadata": {
        "colab": {
          "base_uri": "https://localhost:8080/"
        },
        "id": "Kjoa0oUHvQAv",
        "outputId": "bb732b08-5ca7-454e-c85d-4aabaa0ea9fe"
      },
      "outputs": [
        {
          "output_type": "stream",
          "name": "stdout",
          "text": [
            "Found 3327 files belonging to 46 classes.\n"
          ]
        }
      ],
      "source": [
        "training_set = tf.keras.utils.image_dataset_from_directory(\n",
        "    '/content/drive/MyDrive/Food dataset/train',\n",
        "    labels=\"inferred\",\n",
        "    label_mode=\"categorical\",\n",
        "    class_names=None,\n",
        "    color_mode=\"rgb\",\n",
        "    batch_size=32,\n",
        "    image_size=(64, 64),\n",
        "    shuffle=True,\n",
        "    seed=None,\n",
        "    validation_split=None,\n",
        "    subset=None,\n",
        "    interpolation=\"bilinear\",\n",
        "    follow_links=False,\n",
        "    crop_to_aspect_ratio=False\n",
        ")"
      ]
    },
    {
      "cell_type": "markdown",
      "metadata": {
        "id": "nK9Ev76o0mdJ"
      },
      "source": [
        "##Validation Image Preprocessing"
      ]
    },
    {
      "cell_type": "code",
      "execution_count": 26,
      "metadata": {
        "colab": {
          "base_uri": "https://localhost:8080/"
        },
        "id": "Tocls4IowkNB",
        "outputId": "4e625a62-50d4-4e01-c6b6-4873ef0798b7"
      },
      "outputs": [
        {
          "output_type": "stream",
          "name": "stdout",
          "text": [
            "Found 450 files belonging to 46 classes.\n"
          ]
        }
      ],
      "source": [
        "validation_set = tf.keras.utils.image_dataset_from_directory(\n",
        "    '/content/drive/MyDrive/Food dataset/validation',\n",
        "    labels=\"inferred\",\n",
        "    label_mode=\"categorical\",\n",
        "    class_names=None,\n",
        "    color_mode=\"rgb\",\n",
        "    batch_size=32,\n",
        "    image_size=(64, 64),\n",
        "    shuffle=True,\n",
        "    seed=None,\n",
        "    validation_split=None,\n",
        "    subset=None,\n",
        "    interpolation=\"bilinear\",\n",
        "    follow_links=False,\n",
        "    crop_to_aspect_ratio=False\n",
        ")"
      ]
    },
    {
      "cell_type": "markdown",
      "source": [
        "#Building Model"
      ],
      "metadata": {
        "id": "2DhraXZMVZ-G"
      }
    },
    {
      "cell_type": "markdown",
      "source": [
        "#Building Convolution Layer"
      ],
      "metadata": {
        "id": "DFXPzhDUViPj"
      }
    },
    {
      "cell_type": "code",
      "source": [
        "model = tf.keras.models.Sequential()"
      ],
      "metadata": {
        "id": "2BD0RlYl46Ai"
      },
      "execution_count": 27,
      "outputs": []
    },
    {
      "cell_type": "code",
      "source": [
        "# Lapisan konvolusi\n",
        "model.add(tf.keras.layers.Conv2D(filters=32,kernel_size=3,activation='relu',input_shape=[64,64,3]))\n",
        "model.add(tf.keras.layers.Conv2D(filters=32,kernel_size=3,activation='relu'))\n",
        "model.add(tf.keras.layers.MaxPool2D(pool_size=2,strides=2))\n",
        "\n",
        "model.add(tf.keras.layers.Conv2D(filters=64,kernel_size=3,activation='relu'))\n",
        "model.add(tf.keras.layers.Conv2D(filters=64,kernel_size=3,activation='relu'))\n",
        "model.add(tf.keras.layers.MaxPool2D(pool_size=2,strides=2))\n",
        "\n"
      ],
      "metadata": {
        "id": "xqJGTsOJ49Sz"
      },
      "execution_count": 28,
      "outputs": []
    },
    {
      "cell_type": "code",
      "source": [
        "model.add(tf.keras.layers.Flatten())\n",
        "model.add(tf.keras.layers.Dense(units=512,activation='relu'))\n",
        "model.add(tf.keras.layers.Dense(units=256,activation='relu'))"
      ],
      "metadata": {
        "id": "O7CN_ZHusqit"
      },
      "execution_count": 29,
      "outputs": []
    },
    {
      "cell_type": "code",
      "source": [
        "model.add(tf.keras.layers.Dropout(0.5))"
      ],
      "metadata": {
        "id": "43PmV01JsstB"
      },
      "execution_count": 30,
      "outputs": []
    },
    {
      "cell_type": "code",
      "source": [
        "# Lapisan output\n",
        "model.add(tf.keras.layers.Dense(units=46, activation='softmax')) #use softmax cause multiclass cllasofication"
      ],
      "metadata": {
        "id": "dEL500-HXG2P"
      },
      "execution_count": 31,
      "outputs": []
    },
    {
      "cell_type": "markdown",
      "source": [
        "#Compiling and Training Phase"
      ],
      "metadata": {
        "id": "Y_NZCfsrXgiC"
      }
    },
    {
      "cell_type": "code",
      "source": [
        "# Kompilasi model\n",
        "model.compile(optimizer='adam', loss='categorical_crossentropy', metrics=['accuracy'])"
      ],
      "metadata": {
        "id": "tI26rnoz5DYg"
      },
      "execution_count": 32,
      "outputs": []
    },
    {
      "cell_type": "code",
      "source": [
        "#callback\n",
        "class Akhir(tf.keras.callbacks.Callback):\n",
        "    def on_epoch_end(self, epoch, logs={}):\n",
        "        if (logs.get('accuracy') > 0.91 and logs.get('val_accuracy') > 0.91):\n",
        "            self.model.stop_training = True"
      ],
      "metadata": {
        "id": "mh_UFlk7aWnl"
      },
      "execution_count": 33,
      "outputs": []
    },
    {
      "cell_type": "code",
      "source": [
        "# Tampilkan ringkasan model\n",
        "model.summary()"
      ],
      "metadata": {
        "colab": {
          "base_uri": "https://localhost:8080/"
        },
        "id": "LW-XBerH5IE8",
        "outputId": "665b65e1-c125-45d2-d47e-408b228ba205"
      },
      "execution_count": 34,
      "outputs": [
        {
          "output_type": "stream",
          "name": "stdout",
          "text": [
            "Model: \"sequential_1\"\n",
            "_________________________________________________________________\n",
            " Layer (type)                Output Shape              Param #   \n",
            "=================================================================\n",
            " conv2d_4 (Conv2D)           (None, 62, 62, 32)        896       \n",
            "                                                                 \n",
            " conv2d_5 (Conv2D)           (None, 60, 60, 32)        9248      \n",
            "                                                                 \n",
            " max_pooling2d_2 (MaxPoolin  (None, 30, 30, 32)        0         \n",
            " g2D)                                                            \n",
            "                                                                 \n",
            " conv2d_6 (Conv2D)           (None, 28, 28, 64)        18496     \n",
            "                                                                 \n",
            " conv2d_7 (Conv2D)           (None, 26, 26, 64)        36928     \n",
            "                                                                 \n",
            " max_pooling2d_3 (MaxPoolin  (None, 13, 13, 64)        0         \n",
            " g2D)                                                            \n",
            "                                                                 \n",
            " flatten_1 (Flatten)         (None, 10816)             0         \n",
            "                                                                 \n",
            " dense_3 (Dense)             (None, 512)               5538304   \n",
            "                                                                 \n",
            " dense_4 (Dense)             (None, 256)               131328    \n",
            "                                                                 \n",
            " dropout_1 (Dropout)         (None, 256)               0         \n",
            "                                                                 \n",
            " dense_5 (Dense)             (None, 46)                11822     \n",
            "                                                                 \n",
            "=================================================================\n",
            "Total params: 5747022 (21.92 MB)\n",
            "Trainable params: 5747022 (21.92 MB)\n",
            "Non-trainable params: 0 (0.00 Byte)\n",
            "_________________________________________________________________\n"
          ]
        }
      ]
    },
    {
      "cell_type": "code",
      "source": [
        "callback = Akhir()"
      ],
      "metadata": {
        "id": "u8QX20Stbhkq"
      },
      "execution_count": 35,
      "outputs": []
    },
    {
      "cell_type": "code",
      "source": [
        "training_history = model.fit(x=training_set,validation_data=validation_set,epochs=40,callbacks=[callback])"
      ],
      "metadata": {
        "colab": {
          "base_uri": "https://localhost:8080/"
        },
        "id": "IB5ArSvNalHj",
        "outputId": "7c7049e1-79d8-46ee-e176-35911be1964b"
      },
      "execution_count": 36,
      "outputs": [
        {
          "output_type": "stream",
          "name": "stdout",
          "text": [
            "Epoch 1/40\n",
            "104/104 [==============================] - 80s 631ms/step - loss: 6.0230 - accuracy: 0.0361 - val_loss: 3.8156 - val_accuracy: 0.0467\n",
            "Epoch 2/40\n",
            "104/104 [==============================] - 74s 661ms/step - loss: 3.7761 - accuracy: 0.0364 - val_loss: 3.6852 - val_accuracy: 0.0756\n",
            "Epoch 3/40\n",
            "104/104 [==============================] - 70s 631ms/step - loss: 3.7400 - accuracy: 0.0490 - val_loss: 3.7981 - val_accuracy: 0.0533\n",
            "Epoch 4/40\n",
            "104/104 [==============================] - 71s 625ms/step - loss: 3.6395 - accuracy: 0.0670 - val_loss: 3.6278 - val_accuracy: 0.1333\n",
            "Epoch 5/40\n",
            "104/104 [==============================] - 72s 647ms/step - loss: 3.4870 - accuracy: 0.1001 - val_loss: 3.3496 - val_accuracy: 0.1956\n",
            "Epoch 6/40\n",
            "104/104 [==============================] - 74s 652ms/step - loss: 3.2760 - accuracy: 0.1458 - val_loss: 3.1539 - val_accuracy: 0.2356\n",
            "Epoch 7/40\n",
            "104/104 [==============================] - 72s 636ms/step - loss: 3.0413 - accuracy: 0.2038 - val_loss: 2.8475 - val_accuracy: 0.3556\n",
            "Epoch 8/40\n",
            "104/104 [==============================] - 73s 661ms/step - loss: 2.7196 - accuracy: 0.2882 - val_loss: 2.7718 - val_accuracy: 0.4022\n",
            "Epoch 9/40\n",
            "104/104 [==============================] - 74s 666ms/step - loss: 2.4074 - accuracy: 0.3676 - val_loss: 2.6423 - val_accuracy: 0.4556\n",
            "Epoch 10/40\n",
            "104/104 [==============================] - 76s 659ms/step - loss: 2.1222 - accuracy: 0.4388 - val_loss: 2.6363 - val_accuracy: 0.4622\n",
            "Epoch 11/40\n",
            "104/104 [==============================] - 72s 652ms/step - loss: 1.8281 - accuracy: 0.5056 - val_loss: 2.5094 - val_accuracy: 0.4933\n",
            "Epoch 12/40\n",
            "104/104 [==============================] - 73s 642ms/step - loss: 1.7440 - accuracy: 0.5431 - val_loss: 2.6266 - val_accuracy: 0.5311\n",
            "Epoch 13/40\n",
            "104/104 [==============================] - 75s 675ms/step - loss: 1.4756 - accuracy: 0.5969 - val_loss: 2.5953 - val_accuracy: 0.5556\n",
            "Epoch 14/40\n",
            "104/104 [==============================] - 73s 664ms/step - loss: 1.3880 - accuracy: 0.6288 - val_loss: 2.6181 - val_accuracy: 0.5289\n",
            "Epoch 15/40\n",
            "104/104 [==============================] - 72s 656ms/step - loss: 1.2200 - accuracy: 0.6709 - val_loss: 2.7828 - val_accuracy: 0.5622\n",
            "Epoch 16/40\n",
            "104/104 [==============================] - 72s 642ms/step - loss: 1.1178 - accuracy: 0.6979 - val_loss: 3.0361 - val_accuracy: 0.5578\n",
            "Epoch 17/40\n",
            "104/104 [==============================] - 76s 671ms/step - loss: 1.0233 - accuracy: 0.7181 - val_loss: 2.8726 - val_accuracy: 0.5711\n",
            "Epoch 18/40\n",
            "104/104 [==============================] - 73s 639ms/step - loss: 0.9872 - accuracy: 0.7337 - val_loss: 3.0040 - val_accuracy: 0.5822\n",
            "Epoch 19/40\n",
            "104/104 [==============================] - 73s 657ms/step - loss: 0.9818 - accuracy: 0.7436 - val_loss: 2.8134 - val_accuracy: 0.5889\n",
            "Epoch 20/40\n",
            "104/104 [==============================] - 74s 667ms/step - loss: 0.9059 - accuracy: 0.7550 - val_loss: 3.0072 - val_accuracy: 0.5978\n",
            "Epoch 21/40\n",
            "104/104 [==============================] - 73s 658ms/step - loss: 0.8403 - accuracy: 0.7746 - val_loss: 3.1970 - val_accuracy: 0.5733\n",
            "Epoch 22/40\n",
            "104/104 [==============================] - 72s 641ms/step - loss: 0.7815 - accuracy: 0.7827 - val_loss: 3.2533 - val_accuracy: 0.6089\n",
            "Epoch 23/40\n",
            "104/104 [==============================] - 73s 644ms/step - loss: 0.7464 - accuracy: 0.7974 - val_loss: 3.3123 - val_accuracy: 0.5933\n",
            "Epoch 24/40\n",
            "104/104 [==============================] - 77s 690ms/step - loss: 0.7460 - accuracy: 0.7947 - val_loss: 3.1039 - val_accuracy: 0.5933\n",
            "Epoch 25/40\n",
            "104/104 [==============================] - 74s 668ms/step - loss: 0.7229 - accuracy: 0.8070 - val_loss: 3.5269 - val_accuracy: 0.6156\n",
            "Epoch 26/40\n",
            "104/104 [==============================] - 71s 641ms/step - loss: 0.6611 - accuracy: 0.8145 - val_loss: 3.7223 - val_accuracy: 0.6067\n",
            "Epoch 27/40\n",
            "104/104 [==============================] - 75s 662ms/step - loss: 0.5977 - accuracy: 0.8335 - val_loss: 3.6044 - val_accuracy: 0.6067\n",
            "Epoch 28/40\n",
            "104/104 [==============================] - 73s 659ms/step - loss: 0.6045 - accuracy: 0.8317 - val_loss: 3.8663 - val_accuracy: 0.6267\n",
            "Epoch 29/40\n",
            "104/104 [==============================] - 81s 715ms/step - loss: 0.6017 - accuracy: 0.8350 - val_loss: 3.5214 - val_accuracy: 0.6089\n",
            "Epoch 30/40\n",
            "104/104 [==============================] - 81s 720ms/step - loss: 0.6753 - accuracy: 0.8260 - val_loss: 3.3039 - val_accuracy: 0.6267\n",
            "Epoch 31/40\n",
            "104/104 [==============================] - 81s 734ms/step - loss: 0.4992 - accuracy: 0.8584 - val_loss: 3.4171 - val_accuracy: 0.6156\n",
            "Epoch 32/40\n",
            "104/104 [==============================] - 73s 656ms/step - loss: 0.5176 - accuracy: 0.8599 - val_loss: 3.3242 - val_accuracy: 0.6289\n",
            "Epoch 33/40\n",
            "104/104 [==============================] - 74s 667ms/step - loss: 0.5067 - accuracy: 0.8641 - val_loss: 3.4128 - val_accuracy: 0.6311\n",
            "Epoch 34/40\n",
            "104/104 [==============================] - 83s 756ms/step - loss: 0.5037 - accuracy: 0.8674 - val_loss: 3.8632 - val_accuracy: 0.6244\n",
            "Epoch 35/40\n",
            "104/104 [==============================] - 73s 662ms/step - loss: 0.4369 - accuracy: 0.8753 - val_loss: 3.8885 - val_accuracy: 0.6156\n",
            "Epoch 36/40\n",
            "104/104 [==============================] - 73s 645ms/step - loss: 0.4960 - accuracy: 0.8680 - val_loss: 3.7708 - val_accuracy: 0.6422\n",
            "Epoch 37/40\n",
            "104/104 [==============================] - 76s 689ms/step - loss: 0.5019 - accuracy: 0.8680 - val_loss: 3.5582 - val_accuracy: 0.6311\n",
            "Epoch 38/40\n",
            "104/104 [==============================] - 73s 657ms/step - loss: 0.4283 - accuracy: 0.8804 - val_loss: 3.3643 - val_accuracy: 0.6422\n",
            "Epoch 39/40\n",
            "104/104 [==============================] - 73s 646ms/step - loss: 0.3452 - accuracy: 0.9059 - val_loss: 3.6637 - val_accuracy: 0.6467\n",
            "Epoch 40/40\n",
            "104/104 [==============================] - 73s 640ms/step - loss: 0.3298 - accuracy: 0.9062 - val_loss: 4.0688 - val_accuracy: 0.6422\n"
          ]
        }
      ]
    },
    {
      "cell_type": "markdown",
      "source": [
        "#Evaluating Model"
      ],
      "metadata": {
        "id": "ej6bm1whYHj_"
      }
    },
    {
      "cell_type": "code",
      "execution_count": 39,
      "metadata": {
        "id": "iY6o3uxjpgl5",
        "colab": {
          "base_uri": "https://localhost:8080/"
        },
        "outputId": "829ce8f4-6b45-4688-d4a4-f6747996a707"
      },
      "outputs": [
        {
          "output_type": "stream",
          "name": "stdout",
          "text": [
            "104/104 [==============================] - 68s 578ms/step - loss: 0.2101 - accuracy: 0.9414\n",
            "Training accuracy: 0.9413886666297913\n"
          ]
        }
      ],
      "source": [
        "#Training set Accuracy\n",
        "train_loss, train_acc = model.evaluate(training_set)\n",
        "print('Training accuracy:', train_acc)"
      ]
    },
    {
      "cell_type": "code",
      "execution_count": 41,
      "metadata": {
        "id": "5SaQgd7bpgwl",
        "colab": {
          "base_uri": "https://localhost:8080/"
        },
        "outputId": "46df897a-b099-41bb-fac4-98c4294b09b2"
      },
      "outputs": [
        {
          "output_type": "stream",
          "name": "stdout",
          "text": [
            "15/15 [==============================] - 12s 358ms/step - loss: 4.0688 - accuracy: 0.6422\n",
            "Validation accuracy: 0.6422222256660461\n"
          ]
        }
      ],
      "source": [
        "#Validation set Accuracy\n",
        "val_loss, val_acc = model.evaluate(validation_set)\n",
        "print('Validation accuracy:', val_acc)"
      ]
    },
    {
      "cell_type": "markdown",
      "metadata": {
        "id": "Qxp0xsjVBGec"
      },
      "source": [
        "##Saving Model"
      ]
    },
    {
      "cell_type": "code",
      "execution_count": 42,
      "metadata": {
        "id": "EEUrBzCrxKt_",
        "colab": {
          "base_uri": "https://localhost:8080/"
        },
        "outputId": "f65ba984-7dc7-469a-9182-6e5282fd3c71"
      },
      "outputs": [
        {
          "output_type": "stream",
          "name": "stderr",
          "text": [
            "/usr/local/lib/python3.10/dist-packages/keras/src/engine/training.py:3103: UserWarning: You are saving your model as an HDF5 file via `model.save()`. This file format is considered legacy. We recommend using instead the native Keras format, e.g. `model.save('my_model.keras')`.\n",
            "  saving_api.save_model(\n"
          ]
        }
      ],
      "source": [
        "model.save('trained_model.h5')"
      ]
    },
    {
      "cell_type": "code",
      "execution_count": 43,
      "metadata": {
        "id": "BM-sILNMBwh1",
        "colab": {
          "base_uri": "https://localhost:8080/"
        },
        "outputId": "27435d09-39d1-4b4a-cfff-c1cf9f69b313"
      },
      "outputs": [
        {
          "output_type": "execute_result",
          "data": {
            "text/plain": [
              "{'loss': [6.022984981536865,\n",
              "  3.7760777473449707,\n",
              "  3.739975690841675,\n",
              "  3.6394870281219482,\n",
              "  3.486984968185425,\n",
              "  3.2760488986968994,\n",
              "  3.041304111480713,\n",
              "  2.7196176052093506,\n",
              "  2.4074244499206543,\n",
              "  2.1222167015075684,\n",
              "  1.8281266689300537,\n",
              "  1.7440013885498047,\n",
              "  1.4755957126617432,\n",
              "  1.38797926902771,\n",
              "  1.2199714183807373,\n",
              "  1.1177819967269897,\n",
              "  1.0233395099639893,\n",
              "  0.9872309565544128,\n",
              "  0.9818176031112671,\n",
              "  0.9059274196624756,\n",
              "  0.8402780294418335,\n",
              "  0.7814513444900513,\n",
              "  0.7463662028312683,\n",
              "  0.7460230588912964,\n",
              "  0.7228971123695374,\n",
              "  0.6610908508300781,\n",
              "  0.5976511240005493,\n",
              "  0.6044623851776123,\n",
              "  0.6017355918884277,\n",
              "  0.6752792596817017,\n",
              "  0.4991813898086548,\n",
              "  0.5175942778587341,\n",
              "  0.5066794753074646,\n",
              "  0.5036892294883728,\n",
              "  0.4368704855442047,\n",
              "  0.49597427248954773,\n",
              "  0.5019379258155823,\n",
              "  0.42830631136894226,\n",
              "  0.34522590041160583,\n",
              "  0.32981306314468384],\n",
              " 'accuracy': [0.03606852889060974,\n",
              "  0.03636910021305084,\n",
              "  0.04899308830499649,\n",
              "  0.06702735275030136,\n",
              "  0.10009016841650009,\n",
              "  0.14577697217464447,\n",
              "  0.2037871927022934,\n",
              "  0.288247674703598,\n",
              "  0.36759844422340393,\n",
              "  0.4388337731361389,\n",
              "  0.505560576915741,\n",
              "  0.543131947517395,\n",
              "  0.5969341993331909,\n",
              "  0.6287947297096252,\n",
              "  0.6708746552467346,\n",
              "  0.6979260444641113,\n",
              "  0.7180643081665039,\n",
              "  0.7336940169334412,\n",
              "  0.7436128854751587,\n",
              "  0.7550345659255981,\n",
              "  0.7745716571807861,\n",
              "  0.7826871275901794,\n",
              "  0.7974150776863098,\n",
              "  0.7947099208831787,\n",
              "  0.807033360004425,\n",
              "  0.8145476579666138,\n",
              "  0.8334836363792419,\n",
              "  0.831680178642273,\n",
              "  0.8349864482879639,\n",
              "  0.8259693384170532,\n",
              "  0.8584310412406921,\n",
              "  0.8599338531494141,\n",
              "  0.8641418814659119,\n",
              "  0.8674481511116028,\n",
              "  0.875262975692749,\n",
              "  0.8680492639541626,\n",
              "  0.8680492639541626,\n",
              "  0.8803727030754089,\n",
              "  0.905921220779419,\n",
              "  0.9062218070030212],\n",
              " 'val_loss': [3.8156182765960693,\n",
              "  3.6851701736450195,\n",
              "  3.798095941543579,\n",
              "  3.627788543701172,\n",
              "  3.349644899368286,\n",
              "  3.1538596153259277,\n",
              "  2.847538709640503,\n",
              "  2.771791934967041,\n",
              "  2.6422998905181885,\n",
              "  2.636309862136841,\n",
              "  2.509399890899658,\n",
              "  2.6265854835510254,\n",
              "  2.5952911376953125,\n",
              "  2.618074893951416,\n",
              "  2.7828269004821777,\n",
              "  3.0361320972442627,\n",
              "  2.8725616931915283,\n",
              "  3.0040035247802734,\n",
              "  2.8134210109710693,\n",
              "  3.0071861743927,\n",
              "  3.1970252990722656,\n",
              "  3.2532832622528076,\n",
              "  3.312347173690796,\n",
              "  3.103891611099243,\n",
              "  3.526935577392578,\n",
              "  3.7223408222198486,\n",
              "  3.604417324066162,\n",
              "  3.8662514686584473,\n",
              "  3.5214450359344482,\n",
              "  3.303879499435425,\n",
              "  3.417107105255127,\n",
              "  3.324197769165039,\n",
              "  3.4128472805023193,\n",
              "  3.8632237911224365,\n",
              "  3.88849139213562,\n",
              "  3.7708163261413574,\n",
              "  3.558164358139038,\n",
              "  3.364311456680298,\n",
              "  3.6636979579925537,\n",
              "  4.068789958953857],\n",
              " 'val_accuracy': [0.046666666865348816,\n",
              "  0.07555555552244186,\n",
              "  0.0533333346247673,\n",
              "  0.13333334028720856,\n",
              "  0.19555555284023285,\n",
              "  0.23555555939674377,\n",
              "  0.35555556416511536,\n",
              "  0.402222216129303,\n",
              "  0.4555555582046509,\n",
              "  0.46222221851348877,\n",
              "  0.4933333396911621,\n",
              "  0.5311111211776733,\n",
              "  0.5555555820465088,\n",
              "  0.5288888812065125,\n",
              "  0.5622222423553467,\n",
              "  0.5577777624130249,\n",
              "  0.5711110830307007,\n",
              "  0.5822222232818604,\n",
              "  0.5888888835906982,\n",
              "  0.597777783870697,\n",
              "  0.5733333230018616,\n",
              "  0.6088888645172119,\n",
              "  0.5933333039283752,\n",
              "  0.5933333039283752,\n",
              "  0.6155555844306946,\n",
              "  0.6066666841506958,\n",
              "  0.6066666841506958,\n",
              "  0.6266666650772095,\n",
              "  0.6088888645172119,\n",
              "  0.6266666650772095,\n",
              "  0.6155555844306946,\n",
              "  0.6288889050483704,\n",
              "  0.6311110854148865,\n",
              "  0.6244444251060486,\n",
              "  0.6155555844306946,\n",
              "  0.6422222256660461,\n",
              "  0.6311110854148865,\n",
              "  0.6422222256660461,\n",
              "  0.6466666460037231,\n",
              "  0.6422222256660461]}"
            ]
          },
          "metadata": {},
          "execution_count": 43
        }
      ],
      "source": [
        "training_history.history #Return Dictionary of history"
      ]
    },
    {
      "cell_type": "code",
      "execution_count": 44,
      "metadata": {
        "id": "GdF3Ig4ZBU9V"
      },
      "outputs": [],
      "source": [
        "#Recording History in json\n",
        "import json\n",
        "with open('training_hist.json','w') as f:\n",
        "  json.dump(training_history.history,f)"
      ]
    },
    {
      "cell_type": "code",
      "execution_count": 45,
      "metadata": {
        "id": "w8PnAYbuCNhu",
        "colab": {
          "base_uri": "https://localhost:8080/"
        },
        "outputId": "d4437a44-5d30-420c-aaad-c2aeac49e3d1"
      },
      "outputs": [
        {
          "output_type": "stream",
          "name": "stdout",
          "text": [
            "dict_keys(['loss', 'accuracy', 'val_loss', 'val_accuracy'])\n"
          ]
        }
      ],
      "source": [
        "print(training_history.history.keys())"
      ]
    },
    {
      "cell_type": "markdown",
      "metadata": {
        "id": "ZwTEcIavCjZ8"
      },
      "source": [
        "##Calculating Accuracy of Model Achieved on Validation set"
      ]
    },
    {
      "cell_type": "code",
      "execution_count": 46,
      "metadata": {
        "id": "Z8Q2t6FXCUzR",
        "colab": {
          "base_uri": "https://localhost:8080/"
        },
        "outputId": "5cddfa9a-8ede-4d15-b3be-10aab62be50a"
      },
      "outputs": [
        {
          "output_type": "stream",
          "name": "stdout",
          "text": [
            "Validation set Accuracy: 64.22222256660461 %\n"
          ]
        }
      ],
      "source": [
        "print(\"Validation set Accuracy: {} %\".format(training_history.history['val_accuracy'][-1]*100))"
      ]
    },
    {
      "cell_type": "markdown",
      "metadata": {
        "id": "qNIMPXKFEZ5B"
      },
      "source": [
        "#Accuracy Visualization"
      ]
    },
    {
      "cell_type": "markdown",
      "metadata": {
        "id": "Mdg9Zjp2EfSa"
      },
      "source": [
        "##Training Visualization"
      ]
    },
    {
      "cell_type": "code",
      "execution_count": 47,
      "metadata": {
        "id": "fAvJjfBAFNJx"
      },
      "outputs": [],
      "source": [
        "#training_history.history['accuracy']"
      ]
    },
    {
      "cell_type": "code",
      "execution_count": 53,
      "metadata": {
        "id": "gfKdieuJCt3m",
        "colab": {
          "base_uri": "https://localhost:8080/",
          "height": 472
        },
        "outputId": "a4dc8487-1205-4ac5-a847-32c93c3079bb"
      },
      "outputs": [
        {
          "output_type": "display_data",
          "data": {
            "text/plain": [
              "<Figure size 640x480 with 1 Axes>"
            ],
            "image/png": "[encoded data removed]"
          },
          "metadata": {}
        }
      ],
      "source": [
        "epochs = [i for i in range(1,41)]\n",
        "plt.plot(epochs,training_history.history['accuracy'],color='red')\n",
        "plt.xlabel('No. of Epochs')\n",
        "plt.ylabel('Traiining Accuracy')\n",
        "plt.title('Visualization of Training Accuracy Result')\n",
        "plt.show()\n"
      ]
    },
    {
      "cell_type": "markdown",
      "metadata": {
        "id": "FbOcpJL1FvJG"
      },
      "source": [
        "##Validation Accuracy"
      ]
    },
    {
      "cell_type": "code",
      "execution_count": 54,
      "metadata": {
        "id": "ZXyC9WAJEs-B",
        "colab": {
          "base_uri": "https://localhost:8080/",
          "height": 472
        },
        "outputId": "a8ebec4e-9f0e-42fa-f18d-f17c9e6f3706"
      },
      "outputs": [
        {
          "output_type": "display_data",
          "data": {
            "text/plain": [
              "<Figure size 640x480 with 1 Axes>"
            ],
            "image/png": "[encoded data removed]"
          },
          "metadata": {}
        }
      ],
      "source": [
        "plt.plot(epochs,training_history.history['val_accuracy'],color='blue')\n",
        "plt.xlabel('No. of Epochs')\n",
        "plt.ylabel('Validation Accuracy')\n",
        "plt.title('Visualization of Validation Accuracy Result')\n",
        "plt.show()"
      ]
    },
    {
      "cell_type": "code",
      "execution_count": 54,
      "metadata": {
        "id": "6mB3DkYFEuRg"
      },
      "outputs": [],
      "source": []
    },
    {
      "cell_type": "markdown",
      "metadata": {
        "id": "IJfYwGbmASaL"
      },
      "source": [
        "##Test set Evaluation"
      ]
    },
    {
      "cell_type": "code",
      "execution_count": 56,
      "metadata": {
        "id": "fGs_0S4AAUj_",
        "colab": {
          "base_uri": "https://localhost:8080/"
        },
        "outputId": "0e6eea41-0591-4cde-bb34-3c13359c9326"
      },
      "outputs": [
        {
          "output_type": "stream",
          "name": "stdout",
          "text": [
            "Found 450 files belonging to 46 classes.\n"
          ]
        }
      ],
      "source": [
        "test_set = tf.keras.utils.image_dataset_from_directory(\n",
        "    '/content/drive/MyDrive/Food dataset/test',\n",
        "    labels=\"inferred\",\n",
        "    label_mode=\"categorical\",\n",
        "    class_names=None,\n",
        "    color_mode=\"rgb\",\n",
        "    batch_size=32,\n",
        "    image_size=(64, 64),\n",
        "    shuffle=True,\n",
        "    seed=None,\n",
        "    validation_split=None,\n",
        "    subset=None,\n",
        "    interpolation=\"bilinear\",\n",
        "    follow_links=False,\n",
        "    crop_to_aspect_ratio=False\n",
        ")"
      ]
    },
    {
      "cell_type": "code",
      "execution_count": 58,
      "metadata": {
        "id": "GdMcF4vnAYuM",
        "colab": {
          "base_uri": "https://localhost:8080/"
        },
        "outputId": "838276b7-f18e-48df-991d-738eba7d1484"
      },
      "outputs": [
        {
          "output_type": "stream",
          "name": "stdout",
          "text": [
            "15/15 [==============================] - 56s 1s/step - loss: 3.9650 - accuracy: 0.6400\n",
            "Test accuracy: 0.6399999856948853\n"
          ]
        }
      ],
      "source": [
        "test_loss,test_acc = model.evaluate(test_set)\n",
        "print('Test accuracy:', test_acc)"
      ]
    },
    {
      "cell_type": "code",
      "execution_count": null,
      "metadata": {
        "id": "MmHXzT0PAiOn"
      },
      "outputs": [],
      "source": []
    }
  ],
  "metadata": {
    "colab": {
      "provenance": [],
      "gpuType": "T4"
    },
    "kernelspec": {
      "display_name": "Python 3",
      "name": "python3"
    },
    "language_info": {
      "name": "python"
    },
    "accelerator": "GPU"
  },
  "nbformat": 4,
  "nbformat_minor": 0
}